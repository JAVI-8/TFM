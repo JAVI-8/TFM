{
 "cells": [
  {
   "cell_type": "code",
   "execution_count": 10,
   "id": "d0bf52bf",
   "metadata": {},
   "outputs": [],
   "source": [
    "import os\n",
    "import pandas as pd\n",
    "\n",
    "FOLDER_FBREF = \"data/fbref\"\n",
    "FOLDER_UNDERSTAT = \"data/understat\"\n",
    "\n",
    "df = pd.read_csv(\"data/fbref/laliga_2024_2025.csv\")\n"
   ]
  },
  {
   "cell_type": "code",
   "execution_count": 15,
   "id": "ff59f954",
   "metadata": {},
   "outputs": [
    {
     "data": {
      "text/plain": [
       "index                         0.0\n",
       "Unnamed: 0_level_0              1\n",
       "Unnamed: 1_level_0     Max Aarons\n",
       "Unnamed: 2_level_0        eng ENG\n",
       "Unnamed: 3_level_0          DF,MF\n",
       "Unnamed: 4_level_0       Valencia\n",
       "Unnamed: 5_level_0             24\n",
       "Unnamed: 6_level_0           2000\n",
       "Playing Time                    4\n",
       "Playing Time.1                  1\n",
       "Playing Time.2                120\n",
       "Playing Time.3                1.3\n",
       "Performance                     0\n",
       "Performance.1                   0\n",
       "Performance.2                   0\n",
       "Performance.3                   0\n",
       "Performance.4                   0\n",
       "Performance.5                   0\n",
       "Performance.6                   2\n",
       "Performance.7                   0\n",
       "Expected                      0.0\n",
       "Expected.1                    0.0\n",
       "Expected.2                    0.0\n",
       "Expected.3                    0.0\n",
       "Progression                     0\n",
       "Progression.1                   6\n",
       "Progression.2                  10\n",
       "Per 90 Minutes               0.00\n",
       "Per 90 Minutes.1             0.00\n",
       "Per 90 Minutes.2             0.00\n",
       "Per 90 Minutes.3             0.00\n",
       "Per 90 Minutes.4             0.00\n",
       "Per 90 Minutes.5             0.00\n",
       "Per 90 Minutes.6             0.02\n",
       "Per 90 Minutes.7             0.02\n",
       "Per 90 Minutes.8             0.00\n",
       "Per 90 Minutes.9             0.02\n",
       "Unnamed: 36_level_0       Matches\n",
       "Name: 1, dtype: object"
      ]
     },
     "execution_count": 15,
     "metadata": {},
     "output_type": "execute_result"
    }
   ],
   "source": [
    "# Ver la fila en la posición 10\n",
    "# Aplanar nombres de columnas multi-nivel\n",
    "#df.columns = ['_'.join(col).strip() if isinstance(col, tuple) else col for col in df.columns]\n",
    "df.iloc[1]\n"
   ]
  }
 ],
 "metadata": {
  "kernelspec": {
   "display_name": "venv",
   "language": "python",
   "name": "python3"
  },
  "language_info": {
   "codemirror_mode": {
    "name": "ipython",
    "version": 3
   },
   "file_extension": ".py",
   "mimetype": "text/x-python",
   "name": "python",
   "nbconvert_exporter": "python",
   "pygments_lexer": "ipython3",
   "version": "3.10.11"
  }
 },
 "nbformat": 4,
 "nbformat_minor": 5
}
